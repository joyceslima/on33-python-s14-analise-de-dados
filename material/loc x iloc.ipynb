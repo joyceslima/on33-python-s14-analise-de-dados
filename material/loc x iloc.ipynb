{
 "cells": [
  {
   "cell_type": "markdown",
   "metadata": {},
   "source": [
    "# Diferença entre .loc e .iloc no Pandas"
   ]
  },
  {
   "cell_type": "code",
   "execution_count": null,
   "metadata": {},
   "outputs": [],
   "source": [
    "dados = [\n",
    "    {'RA': 110201, 'Nome': 'Antonio Carlos', 'Frequencia': 20, 'Prova_1': 6.5, 'Prova_2': 8.5, 'Prova_3': 7.0, 'Prova_4': 6},\n",
    "    {'RA': 110212, 'Nome': 'Ana Beatriz', 'Frequencia': 20, 'Prova_1': 7.0, 'Prova_2': 7.0, 'Prova_3': 7.0, 'Prova_4': 8},\n",
    "    {'RA': 110218, 'Nome': 'Carlos Vernes', 'Frequencia': 17, 'Prova_1': 7.0, 'Prova_2': 7.0, 'Prova_3': 7.0, 'Prova_4': 7},\n",
    "    {'RA': 110307, 'Nome': 'Francisco Cunha', 'Frequencia': 20, 'Prova_1': 9.0, 'Prova_2': 8.5, 'Prova_3': 8.5, 'Prova_4': 10},\n",
    "    {'RA': 110275, 'Nome': 'Sandra Rosa', 'Frequencia': 15, 'Prova_1': 6.5, 'Prova_2': 7.5, 'Prova_3': 7.0, 'Prova_4': 7},\n",
    "    {'RA': 110281, 'Nome': 'Juliana Arruda', 'Frequencia': 18, 'Prova_1': 7.5, 'Prova_2': 7.0, 'Prova_3': 7.5, 'Prova_4': 8},\n",
    "]\n",
    "\n",
    "import pandas as pd\n",
    "\n",
    "tabela = pd.DataFrame(dados)\n",
    "\n",
    "tabela"
   ]
  },
  {
   "cell_type": "code",
   "execution_count": null,
   "metadata": {},
   "outputs": [],
   "source": [
    "# selecionar linhas 3 à 5 das colunas ['Nome','Prova_1']\n",
    "tabela.loc[3:5, [\"Nome\", \"Prova_1\"]]"
   ]
  },
  {
   "cell_type": "code",
   "execution_count": null,
   "metadata": {},
   "outputs": [],
   "source": [
    "# selecionar linhas 3,5,9 das colunas ['Nome','Prova_1']\n",
    "tabela.loc[[3,5,9], [\"Nome\", \"Prova_1\"]]"
   ]
  },
  {
   "cell_type": "markdown",
   "metadata": {},
   "source": [
    "Vamos testar algo diferente:"
   ]
  },
  {
   "cell_type": "code",
   "execution_count": null,
   "metadata": {},
   "outputs": [],
   "source": [
    "tabela = tabela.set_index('Nome')\n",
    "tabela"
   ]
  },
  {
   "cell_type": "markdown",
   "metadata": {},
   "source": [
    "Vamos tentar selecionar as linhas 3 à 5:"
   ]
  },
  {
   "cell_type": "code",
   "execution_count": null,
   "metadata": {},
   "outputs": [],
   "source": [
    "# tabela.loc[3:5, :]"
   ]
  },
  {
   "cell_type": "markdown",
   "metadata": {},
   "source": [
    "O que aconteceu? <br>\n",
    "O `.loc` faz o slice considerando exatamente o valor do index da matriz e agora o index é o nome dos alunos. E é por conta disso que não conseguimos acessar as colunas pela posição delas, temos que passar seu nome."
   ]
  },
  {
   "cell_type": "code",
   "execution_count": null,
   "metadata": {},
   "outputs": [],
   "source": [
    "tabela.loc['Francisco Cunha':'Juliana Arruda', :]"
   ]
  },
  {
   "cell_type": "markdown",
   "metadata": {},
   "source": [
    "E se por algum motivo eu quisesse acessar esse índice pela posição numérica? <br>\n",
    "Ai precisaremos do **.iloc()**"
   ]
  },
  {
   "cell_type": "code",
   "execution_count": null,
   "metadata": {},
   "outputs": [],
   "source": [
    "tabela.iloc[3:5]"
   ]
  },
  {
   "cell_type": "markdown",
   "metadata": {},
   "source": [
    "## 4. Seleção através das posições das linhas e colunas\n",
    "Outra forma de acessarmos dados é através do `.iloc[número_linhas, número_colunas]` utilizando as posições das linhas e colunas"
   ]
  },
  {
   "cell_type": "code",
   "execution_count": null,
   "metadata": {},
   "outputs": [],
   "source": [
    "# seleciona uma linha de uma coluna\n",
    "tabela.iloc[9, 1]"
   ]
  },
  {
   "cell_type": "code",
   "execution_count": null,
   "metadata": {},
   "outputs": [],
   "source": [
    "# seleciona todas as colunas de uma linha\n",
    "tabela.iloc[9, :]"
   ]
  },
  {
   "cell_type": "code",
   "execution_count": null,
   "metadata": {},
   "outputs": [],
   "source": [
    "# seleciona um conjunto de linhas sequenciais de um conjunto de colunas sequenciais\n",
    "tabela.iloc[3:5, 2:6]"
   ]
  },
  {
   "cell_type": "code",
   "execution_count": null,
   "metadata": {},
   "outputs": [],
   "source": [
    "# seleciona um conjunto de linhas sequenciais de um conjunto de colunas não sequenciais\n",
    "tabela.iloc[3:5, [1,5]]"
   ]
  },
  {
   "cell_type": "code",
   "execution_count": null,
   "metadata": {},
   "outputs": [],
   "source": [
    "tabela.iloc[0]\n"
   ]
  },
  {
   "cell_type": "code",
   "execution_count": null,
   "metadata": {},
   "outputs": [],
   "source": [
    "type(tabela.iloc[0])"
   ]
  },
  {
   "cell_type": "code",
   "execution_count": null,
   "metadata": {},
   "outputs": [],
   "source": [
    "tabela.iloc[:,  0]"
   ]
  },
  {
   "cell_type": "code",
   "execution_count": null,
   "metadata": {},
   "outputs": [],
   "source": [
    "type(tabela.iloc[:, 0])"
   ]
  },
  {
   "cell_type": "markdown",
   "metadata": {},
   "source": [
    "## Concat"
   ]
  },
  {
   "cell_type": "code",
   "execution_count": null,
   "metadata": {},
   "outputs": [],
   "source": [
    "import pandas as pd\n",
    "\n",
    "# Dados de vendas do 1º Trimestre\n",
    "vendas_q1 = pd.DataFrame({\n",
    "    'Mês': ['Janeiro', 'Fevereiro', 'Março'],\n",
    "    'Produto': ['A', 'B', 'C'],\n",
    "    'Vendas': [2500, 3000, 4000]\n",
    "})\n",
    "\n",
    "# Dados de vendas do 2º Trimestre\n",
    "vendas_q2 = pd.DataFrame({\n",
    "    'Mês': ['Abril', 'Maio', 'Junho'],\n",
    "    'Produto': ['A', 'B', 'C'],\n",
    "    'Vendas': [2800, 3500, 4200]\n",
    "})\n",
    "\n",
    "# Dados de vendas do 3º Trimestre\n",
    "vendas_q3 = pd.DataFrame({\n",
    "    'Mês': ['Julho', 'Agosto', 'Setembro'],\n",
    "    # 'Produto': ['A', 'B', 'D'],\n",
    "    'Vendas': [3000, 4000, 4500]\n",
    "})\n"
   ]
  },
  {
   "cell_type": "code",
   "execution_count": null,
   "metadata": {},
   "outputs": [],
   "source": [
    "# Combinando os DataFrames\n",
    "vendas_anuais = pd.concat([vendas_q1, vendas_q2, vendas_q3], ignore_index=True)\n",
    "\n",
    "vendas_anuais\n"
   ]
  },
  {
   "cell_type": "markdown",
   "metadata": {},
   "source": []
  }
 ],
 "metadata": {
  "kernelspec": {
   "display_name": "esc_venv",
   "language": "python",
   "name": "python3"
  },
  "language_info": {
   "codemirror_mode": {
    "name": "ipython",
    "version": 3
   },
   "file_extension": ".py",
   "mimetype": "text/x-python",
   "name": "python",
   "nbconvert_exporter": "python",
   "pygments_lexer": "ipython3",
   "version": "3.9.12"
  }
 },
 "nbformat": 4,
 "nbformat_minor": 2
}
